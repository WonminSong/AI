{
  "nbformat": 4,
  "nbformat_minor": 0,
  "metadata": {
    "kernelspec": {
      "name": "python3",
      "display_name": "Python 3",
      "language": "python"
    },
    "language_info": {
      "name": "python",
      "version": "3.7.6",
      "mimetype": "text/x-python",
      "codemirror_mode": {
        "name": "ipython",
        "version": 3
      },
      "pygments_lexer": "ipython3",
      "nbconvert_exporter": "python",
      "file_extension": ".py"
    },
    "colab": {
      "name": "categorical-feature-encoding-challenge.ipynb",
      "provenance": [],
      "include_colab_link": true
    }
  },
  "cells": [
    {
      "cell_type": "markdown",
      "metadata": {
        "id": "view-in-github",
        "colab_type": "text"
      },
      "source": [
        "<a href=\"https://colab.research.google.com/github/WonminSong/AI/blob/master/categorical_feature_encoding_challenge.ipynb\" target=\"_parent\"><img src=\"https://colab.research.google.com/assets/colab-badge.svg\" alt=\"Open In Colab\"/></a>"
      ]
    },
    {
      "cell_type": "code",
      "metadata": {
        "_uuid": "8f2839f25d086af736a60e9eeb907d3b93b6e0e5",
        "_cell_guid": "b1076dfc-b9ad-4769-8c92-a6c4dae69d19",
        "trusted": true,
        "id": "8SFwQxYlly7b"
      },
      "source": [
        "# This Python 3 environment comes with many helpful analytics libraries installed\n",
        "# It is defined by the kaggle/python Docker image: https://github.com/kaggle/docker-python\n",
        "# For example, here's several helpful packages to load\n",
        "\n",
        "import numpy as np # linear algebra\n",
        "import pandas as pd # data processing, CSV file I/O (e.g. pd.read_csv)"
      ],
      "execution_count": 79,
      "outputs": []
    },
    {
      "cell_type": "code",
      "metadata": {
        "trusted": true,
        "id": "w5IYItF-ly7k"
      },
      "source": [
        "import matplotlib.pyplot as plt\n",
        "import seaborn as sns\n",
        "%matplotlib inline\n",
        "\n",
        "import warnings\n",
        "warnings.filterwarnings('ignore')"
      ],
      "execution_count": 80,
      "outputs": []
    },
    {
      "cell_type": "code",
      "metadata": {
        "id": "QhDiTdiyl55j",
        "outputId": "56340bf7-7332-4f36-9bed-3a20b6811bc3",
        "colab": {
          "base_uri": "https://localhost:8080/",
          "height": 34
        }
      },
      "source": [
        "from google.colab import drive\n",
        "drive.mount('/content/drive')\n",
        "\n",
        "import os\n",
        "os.chdir(\"/content/drive/My Drive/AI/cat-in-the-dat\")"
      ],
      "execution_count": 81,
      "outputs": [
        {
          "output_type": "stream",
          "text": [
            "Drive already mounted at /content/drive; to attempt to forcibly remount, call drive.mount(\"/content/drive\", force_remount=True).\n"
          ],
          "name": "stdout"
        }
      ]
    },
    {
      "cell_type": "code",
      "metadata": {
        "_uuid": "d629ff2d2480ee46fbb7e2d37f6b5fab8052498a",
        "_cell_guid": "79c7e3d0-c299-4dcb-8224-4455121ee9b0",
        "trusted": true,
        "id": "eJUqJm6Jly7s"
      },
      "source": [
        "train = pd.read_csv('/content/drive/My Drive/AI/cat-in-the-dat/train.csv')\n",
        "test = pd.read_csv('/content/drive/My Drive/AI/cat-in-the-dat/test.csv')\n",
        "sample_submission = pd.read_csv('/content/drive/My Drive/AI/cat-in-the-dat/sample_submission.csv', index_col='id')"
      ],
      "execution_count": 82,
      "outputs": []
    },
    {
      "cell_type": "code",
      "metadata": {
        "trusted": true,
        "id": "GDuW1oMlly7y",
        "outputId": "6effd548-f8c3-4a2f-ed78-57666f93cf5d",
        "colab": {
          "base_uri": "https://localhost:8080/",
          "height": 580
        }
      },
      "source": [
        "train.info()"
      ],
      "execution_count": 83,
      "outputs": [
        {
          "output_type": "stream",
          "text": [
            "<class 'pandas.core.frame.DataFrame'>\n",
            "RangeIndex: 300000 entries, 0 to 299999\n",
            "Data columns (total 25 columns):\n",
            " #   Column  Non-Null Count   Dtype \n",
            "---  ------  --------------   ----- \n",
            " 0   id      300000 non-null  int64 \n",
            " 1   bin_0   300000 non-null  int64 \n",
            " 2   bin_1   300000 non-null  int64 \n",
            " 3   bin_2   300000 non-null  int64 \n",
            " 4   bin_3   300000 non-null  object\n",
            " 5   bin_4   300000 non-null  object\n",
            " 6   nom_0   300000 non-null  object\n",
            " 7   nom_1   300000 non-null  object\n",
            " 8   nom_2   300000 non-null  object\n",
            " 9   nom_3   300000 non-null  object\n",
            " 10  nom_4   300000 non-null  object\n",
            " 11  nom_5   300000 non-null  object\n",
            " 12  nom_6   300000 non-null  object\n",
            " 13  nom_7   300000 non-null  object\n",
            " 14  nom_8   300000 non-null  object\n",
            " 15  nom_9   300000 non-null  object\n",
            " 16  ord_0   300000 non-null  int64 \n",
            " 17  ord_1   300000 non-null  object\n",
            " 18  ord_2   300000 non-null  object\n",
            " 19  ord_3   300000 non-null  object\n",
            " 20  ord_4   300000 non-null  object\n",
            " 21  ord_5   300000 non-null  object\n",
            " 22  day     300000 non-null  int64 \n",
            " 23  month   300000 non-null  int64 \n",
            " 24  target  300000 non-null  int64 \n",
            "dtypes: int64(8), object(17)\n",
            "memory usage: 57.2+ MB\n"
          ],
          "name": "stdout"
        }
      ]
    },
    {
      "cell_type": "code",
      "metadata": {
        "trusted": true,
        "id": "M9L4Y8mfly74",
        "outputId": "f1c4d52c-6253-4971-fa03-4a4ba53c1f09",
        "colab": {
          "base_uri": "https://localhost:8080/",
          "height": 249
        }
      },
      "source": [
        "train.head()"
      ],
      "execution_count": 84,
      "outputs": [
        {
          "output_type": "execute_result",
          "data": {
            "text/html": [
              "<div>\n",
              "<style scoped>\n",
              "    .dataframe tbody tr th:only-of-type {\n",
              "        vertical-align: middle;\n",
              "    }\n",
              "\n",
              "    .dataframe tbody tr th {\n",
              "        vertical-align: top;\n",
              "    }\n",
              "\n",
              "    .dataframe thead th {\n",
              "        text-align: right;\n",
              "    }\n",
              "</style>\n",
              "<table border=\"1\" class=\"dataframe\">\n",
              "  <thead>\n",
              "    <tr style=\"text-align: right;\">\n",
              "      <th></th>\n",
              "      <th>id</th>\n",
              "      <th>bin_0</th>\n",
              "      <th>bin_1</th>\n",
              "      <th>bin_2</th>\n",
              "      <th>bin_3</th>\n",
              "      <th>bin_4</th>\n",
              "      <th>nom_0</th>\n",
              "      <th>nom_1</th>\n",
              "      <th>nom_2</th>\n",
              "      <th>nom_3</th>\n",
              "      <th>nom_4</th>\n",
              "      <th>nom_5</th>\n",
              "      <th>nom_6</th>\n",
              "      <th>nom_7</th>\n",
              "      <th>nom_8</th>\n",
              "      <th>nom_9</th>\n",
              "      <th>ord_0</th>\n",
              "      <th>ord_1</th>\n",
              "      <th>ord_2</th>\n",
              "      <th>ord_3</th>\n",
              "      <th>ord_4</th>\n",
              "      <th>ord_5</th>\n",
              "      <th>day</th>\n",
              "      <th>month</th>\n",
              "      <th>target</th>\n",
              "    </tr>\n",
              "  </thead>\n",
              "  <tbody>\n",
              "    <tr>\n",
              "      <th>0</th>\n",
              "      <td>0</td>\n",
              "      <td>0</td>\n",
              "      <td>0</td>\n",
              "      <td>0</td>\n",
              "      <td>T</td>\n",
              "      <td>Y</td>\n",
              "      <td>Green</td>\n",
              "      <td>Triangle</td>\n",
              "      <td>Snake</td>\n",
              "      <td>Finland</td>\n",
              "      <td>Bassoon</td>\n",
              "      <td>50f116bcf</td>\n",
              "      <td>3ac1b8814</td>\n",
              "      <td>68f6ad3e9</td>\n",
              "      <td>c389000ab</td>\n",
              "      <td>2f4cb3d51</td>\n",
              "      <td>2</td>\n",
              "      <td>Grandmaster</td>\n",
              "      <td>Cold</td>\n",
              "      <td>h</td>\n",
              "      <td>D</td>\n",
              "      <td>kr</td>\n",
              "      <td>2</td>\n",
              "      <td>2</td>\n",
              "      <td>0</td>\n",
              "    </tr>\n",
              "    <tr>\n",
              "      <th>1</th>\n",
              "      <td>1</td>\n",
              "      <td>0</td>\n",
              "      <td>1</td>\n",
              "      <td>0</td>\n",
              "      <td>T</td>\n",
              "      <td>Y</td>\n",
              "      <td>Green</td>\n",
              "      <td>Trapezoid</td>\n",
              "      <td>Hamster</td>\n",
              "      <td>Russia</td>\n",
              "      <td>Piano</td>\n",
              "      <td>b3b4d25d0</td>\n",
              "      <td>fbcb50fc1</td>\n",
              "      <td>3b6dd5612</td>\n",
              "      <td>4cd920251</td>\n",
              "      <td>f83c56c21</td>\n",
              "      <td>1</td>\n",
              "      <td>Grandmaster</td>\n",
              "      <td>Hot</td>\n",
              "      <td>a</td>\n",
              "      <td>A</td>\n",
              "      <td>bF</td>\n",
              "      <td>7</td>\n",
              "      <td>8</td>\n",
              "      <td>0</td>\n",
              "    </tr>\n",
              "    <tr>\n",
              "      <th>2</th>\n",
              "      <td>2</td>\n",
              "      <td>0</td>\n",
              "      <td>0</td>\n",
              "      <td>0</td>\n",
              "      <td>F</td>\n",
              "      <td>Y</td>\n",
              "      <td>Blue</td>\n",
              "      <td>Trapezoid</td>\n",
              "      <td>Lion</td>\n",
              "      <td>Russia</td>\n",
              "      <td>Theremin</td>\n",
              "      <td>3263bdce5</td>\n",
              "      <td>0922e3cb8</td>\n",
              "      <td>a6a36f527</td>\n",
              "      <td>de9c9f684</td>\n",
              "      <td>ae6800dd0</td>\n",
              "      <td>1</td>\n",
              "      <td>Expert</td>\n",
              "      <td>Lava Hot</td>\n",
              "      <td>h</td>\n",
              "      <td>R</td>\n",
              "      <td>Jc</td>\n",
              "      <td>7</td>\n",
              "      <td>2</td>\n",
              "      <td>0</td>\n",
              "    </tr>\n",
              "    <tr>\n",
              "      <th>3</th>\n",
              "      <td>3</td>\n",
              "      <td>0</td>\n",
              "      <td>1</td>\n",
              "      <td>0</td>\n",
              "      <td>F</td>\n",
              "      <td>Y</td>\n",
              "      <td>Red</td>\n",
              "      <td>Trapezoid</td>\n",
              "      <td>Snake</td>\n",
              "      <td>Canada</td>\n",
              "      <td>Oboe</td>\n",
              "      <td>f12246592</td>\n",
              "      <td>50d7ad46a</td>\n",
              "      <td>ec69236eb</td>\n",
              "      <td>4ade6ab69</td>\n",
              "      <td>8270f0d71</td>\n",
              "      <td>1</td>\n",
              "      <td>Grandmaster</td>\n",
              "      <td>Boiling Hot</td>\n",
              "      <td>i</td>\n",
              "      <td>D</td>\n",
              "      <td>kW</td>\n",
              "      <td>2</td>\n",
              "      <td>1</td>\n",
              "      <td>1</td>\n",
              "    </tr>\n",
              "    <tr>\n",
              "      <th>4</th>\n",
              "      <td>4</td>\n",
              "      <td>0</td>\n",
              "      <td>0</td>\n",
              "      <td>0</td>\n",
              "      <td>F</td>\n",
              "      <td>N</td>\n",
              "      <td>Red</td>\n",
              "      <td>Trapezoid</td>\n",
              "      <td>Lion</td>\n",
              "      <td>Canada</td>\n",
              "      <td>Oboe</td>\n",
              "      <td>5b0f5acd5</td>\n",
              "      <td>1fe17a1fd</td>\n",
              "      <td>04ddac2be</td>\n",
              "      <td>cb43ab175</td>\n",
              "      <td>b164b72a7</td>\n",
              "      <td>1</td>\n",
              "      <td>Grandmaster</td>\n",
              "      <td>Freezing</td>\n",
              "      <td>a</td>\n",
              "      <td>R</td>\n",
              "      <td>qP</td>\n",
              "      <td>7</td>\n",
              "      <td>8</td>\n",
              "      <td>0</td>\n",
              "    </tr>\n",
              "  </tbody>\n",
              "</table>\n",
              "</div>"
            ],
            "text/plain": [
              "   id  bin_0  bin_1  bin_2 bin_3 bin_4  ... ord_3 ord_4 ord_5 day month target\n",
              "0   0      0      0      0     T     Y  ...     h     D    kr   2     2      0\n",
              "1   1      0      1      0     T     Y  ...     a     A    bF   7     8      0\n",
              "2   2      0      0      0     F     Y  ...     h     R    Jc   7     2      0\n",
              "3   3      0      1      0     F     Y  ...     i     D    kW   2     1      1\n",
              "4   4      0      0      0     F     N  ...     a     R    qP   7     8      0\n",
              "\n",
              "[5 rows x 25 columns]"
            ]
          },
          "metadata": {
            "tags": []
          },
          "execution_count": 84
        }
      ]
    },
    {
      "cell_type": "code",
      "metadata": {
        "trusted": true,
        "id": "XPM9A66-ly7-",
        "outputId": "7f7f6170-7796-47bc-f0b4-4ee06fc92cec",
        "colab": {
          "base_uri": "https://localhost:8080/",
          "height": 249
        }
      },
      "source": [
        "train.tail()"
      ],
      "execution_count": 85,
      "outputs": [
        {
          "output_type": "execute_result",
          "data": {
            "text/html": [
              "<div>\n",
              "<style scoped>\n",
              "    .dataframe tbody tr th:only-of-type {\n",
              "        vertical-align: middle;\n",
              "    }\n",
              "\n",
              "    .dataframe tbody tr th {\n",
              "        vertical-align: top;\n",
              "    }\n",
              "\n",
              "    .dataframe thead th {\n",
              "        text-align: right;\n",
              "    }\n",
              "</style>\n",
              "<table border=\"1\" class=\"dataframe\">\n",
              "  <thead>\n",
              "    <tr style=\"text-align: right;\">\n",
              "      <th></th>\n",
              "      <th>id</th>\n",
              "      <th>bin_0</th>\n",
              "      <th>bin_1</th>\n",
              "      <th>bin_2</th>\n",
              "      <th>bin_3</th>\n",
              "      <th>bin_4</th>\n",
              "      <th>nom_0</th>\n",
              "      <th>nom_1</th>\n",
              "      <th>nom_2</th>\n",
              "      <th>nom_3</th>\n",
              "      <th>nom_4</th>\n",
              "      <th>nom_5</th>\n",
              "      <th>nom_6</th>\n",
              "      <th>nom_7</th>\n",
              "      <th>nom_8</th>\n",
              "      <th>nom_9</th>\n",
              "      <th>ord_0</th>\n",
              "      <th>ord_1</th>\n",
              "      <th>ord_2</th>\n",
              "      <th>ord_3</th>\n",
              "      <th>ord_4</th>\n",
              "      <th>ord_5</th>\n",
              "      <th>day</th>\n",
              "      <th>month</th>\n",
              "      <th>target</th>\n",
              "    </tr>\n",
              "  </thead>\n",
              "  <tbody>\n",
              "    <tr>\n",
              "      <th>299995</th>\n",
              "      <td>299995</td>\n",
              "      <td>0</td>\n",
              "      <td>0</td>\n",
              "      <td>0</td>\n",
              "      <td>T</td>\n",
              "      <td>N</td>\n",
              "      <td>Red</td>\n",
              "      <td>Trapezoid</td>\n",
              "      <td>Snake</td>\n",
              "      <td>India</td>\n",
              "      <td>Oboe</td>\n",
              "      <td>35f65a9bf</td>\n",
              "      <td>788ba7aea</td>\n",
              "      <td>86a8e4ca0</td>\n",
              "      <td>7508f4ef1</td>\n",
              "      <td>e027decef</td>\n",
              "      <td>1</td>\n",
              "      <td>Contributor</td>\n",
              "      <td>Freezing</td>\n",
              "      <td>k</td>\n",
              "      <td>K</td>\n",
              "      <td>dh</td>\n",
              "      <td>3</td>\n",
              "      <td>8</td>\n",
              "      <td>0</td>\n",
              "    </tr>\n",
              "    <tr>\n",
              "      <th>299996</th>\n",
              "      <td>299996</td>\n",
              "      <td>0</td>\n",
              "      <td>0</td>\n",
              "      <td>0</td>\n",
              "      <td>F</td>\n",
              "      <td>Y</td>\n",
              "      <td>Green</td>\n",
              "      <td>Trapezoid</td>\n",
              "      <td>Lion</td>\n",
              "      <td>Russia</td>\n",
              "      <td>Piano</td>\n",
              "      <td>472efea17</td>\n",
              "      <td>3b9693870</td>\n",
              "      <td>c4455f4a8</td>\n",
              "      <td>397dd0274</td>\n",
              "      <td>80f1411c8</td>\n",
              "      <td>2</td>\n",
              "      <td>Novice</td>\n",
              "      <td>Freezing</td>\n",
              "      <td>h</td>\n",
              "      <td>W</td>\n",
              "      <td>MO</td>\n",
              "      <td>3</td>\n",
              "      <td>2</td>\n",
              "      <td>0</td>\n",
              "    </tr>\n",
              "    <tr>\n",
              "      <th>299997</th>\n",
              "      <td>299997</td>\n",
              "      <td>0</td>\n",
              "      <td>0</td>\n",
              "      <td>0</td>\n",
              "      <td>F</td>\n",
              "      <td>Y</td>\n",
              "      <td>Blue</td>\n",
              "      <td>Star</td>\n",
              "      <td>Axolotl</td>\n",
              "      <td>Russia</td>\n",
              "      <td>Oboe</td>\n",
              "      <td>0dee9b39a</td>\n",
              "      <td>6046454de</td>\n",
              "      <td>ba9901303</td>\n",
              "      <td>5d7806f53</td>\n",
              "      <td>314dcc15b</td>\n",
              "      <td>3</td>\n",
              "      <td>Novice</td>\n",
              "      <td>Boiling Hot</td>\n",
              "      <td>o</td>\n",
              "      <td>A</td>\n",
              "      <td>Bn</td>\n",
              "      <td>7</td>\n",
              "      <td>9</td>\n",
              "      <td>1</td>\n",
              "    </tr>\n",
              "    <tr>\n",
              "      <th>299998</th>\n",
              "      <td>299998</td>\n",
              "      <td>0</td>\n",
              "      <td>1</td>\n",
              "      <td>0</td>\n",
              "      <td>F</td>\n",
              "      <td>Y</td>\n",
              "      <td>Green</td>\n",
              "      <td>Square</td>\n",
              "      <td>Axolotl</td>\n",
              "      <td>Costa Rica</td>\n",
              "      <td>Piano</td>\n",
              "      <td>e1558b071</td>\n",
              "      <td>0000ee65f</td>\n",
              "      <td>c8ae4ea14</td>\n",
              "      <td>1f820c7ce</td>\n",
              "      <td>ab0ce192b</td>\n",
              "      <td>1</td>\n",
              "      <td>Master</td>\n",
              "      <td>Boiling Hot</td>\n",
              "      <td>h</td>\n",
              "      <td>W</td>\n",
              "      <td>uJ</td>\n",
              "      <td>3</td>\n",
              "      <td>8</td>\n",
              "      <td>1</td>\n",
              "    </tr>\n",
              "    <tr>\n",
              "      <th>299999</th>\n",
              "      <td>299999</td>\n",
              "      <td>0</td>\n",
              "      <td>0</td>\n",
              "      <td>0</td>\n",
              "      <td>F</td>\n",
              "      <td>Y</td>\n",
              "      <td>Blue</td>\n",
              "      <td>Trapezoid</td>\n",
              "      <td>Dog</td>\n",
              "      <td>Russia</td>\n",
              "      <td>Bassoon</td>\n",
              "      <td>416a8f3ab</td>\n",
              "      <td>8d1b72979</td>\n",
              "      <td>c073efb40</td>\n",
              "      <td>c13d3ebdf</td>\n",
              "      <td>ad1af2b45</td>\n",
              "      <td>3</td>\n",
              "      <td>Contributor</td>\n",
              "      <td>Freezing</td>\n",
              "      <td>i</td>\n",
              "      <td>R</td>\n",
              "      <td>tP</td>\n",
              "      <td>1</td>\n",
              "      <td>3</td>\n",
              "      <td>0</td>\n",
              "    </tr>\n",
              "  </tbody>\n",
              "</table>\n",
              "</div>"
            ],
            "text/plain": [
              "            id  bin_0  bin_1  bin_2 bin_3  ... ord_4 ord_5 day month target\n",
              "299995  299995      0      0      0     T  ...     K    dh   3     8      0\n",
              "299996  299996      0      0      0     F  ...     W    MO   3     2      0\n",
              "299997  299997      0      0      0     F  ...     A    Bn   7     9      1\n",
              "299998  299998      0      1      0     F  ...     W    uJ   3     8      1\n",
              "299999  299999      0      0      0     F  ...     R    tP   1     3      0\n",
              "\n",
              "[5 rows x 25 columns]"
            ]
          },
          "metadata": {
            "tags": []
          },
          "execution_count": 85
        }
      ]
    },
    {
      "cell_type": "code",
      "metadata": {
        "trusted": true,
        "id": "dsFHdjrwly8K",
        "outputId": "75a08045-c647-4821-cbce-49db3a57c836",
        "colab": {
          "base_uri": "https://localhost:8080/",
          "height": 105
        }
      },
      "source": [
        "train.columns"
      ],
      "execution_count": 86,
      "outputs": [
        {
          "output_type": "execute_result",
          "data": {
            "text/plain": [
              "Index(['id', 'bin_0', 'bin_1', 'bin_2', 'bin_3', 'bin_4', 'nom_0', 'nom_1',\n",
              "       'nom_2', 'nom_3', 'nom_4', 'nom_5', 'nom_6', 'nom_7', 'nom_8', 'nom_9',\n",
              "       'ord_0', 'ord_1', 'ord_2', 'ord_3', 'ord_4', 'ord_5', 'day', 'month',\n",
              "       'target'],\n",
              "      dtype='object')"
            ]
          },
          "metadata": {
            "tags": []
          },
          "execution_count": 86
        }
      ]
    },
    {
      "cell_type": "code",
      "metadata": {
        "trusted": true,
        "id": "fQYDyiVmly8i",
        "outputId": "7a72a349-c236-4cd7-92c4-e33dd20f39d4",
        "colab": {
          "base_uri": "https://localhost:8080/",
          "height": 280
        }
      },
      "source": [
        "sns.barplot(x=\"bin_0\",y=\"target\",data=train);"
      ],
      "execution_count": 87,
      "outputs": [
        {
          "output_type": "display_data",
          "data": {
            "image/png": "[encoded data removed]",
            "text/plain": [
              "<Figure size 432x288 with 1 Axes>"
            ]
          },
          "metadata": {
            "tags": [],
            "needs_background": "light"
          }
        }
      ]
    },
    {
      "cell_type": "code",
      "metadata": {
        "trusted": true,
        "id": "81b0TLb6ly8w",
        "outputId": "68fe61a8-6832-4269-821f-400cf7241c3b",
        "colab": {
          "base_uri": "https://localhost:8080/",
          "height": 280
        }
      },
      "source": [
        "sns.barplot(x=\"bin_1\",y=\"target\",data=train);"
      ],
      "execution_count": 88,
      "outputs": [
        {
          "output_type": "display_data",
          "data": {
            "image/png": "[encoded data removed]",
            "text/plain": [
              "<Figure size 432x288 with 1 Axes>"
            ]
          },
          "metadata": {
            "tags": [],
            "needs_background": "light"
          }
        }
      ]
    },
    {
      "cell_type": "code",
      "metadata": {
        "trusted": true,
        "id": "um-WdJ5Xly84",
        "outputId": "2e3abbb7-0485-455d-db9b-fbc25a9e271b",
        "colab": {
          "base_uri": "https://localhost:8080/",
          "height": 280
        }
      },
      "source": [
        "sns.barplot(x=\"bin_2\",y=\"target\",data=train);"
      ],
      "execution_count": 89,
      "outputs": [
        {
          "output_type": "display_data",
          "data": {
            "image/png": "[encoded data removed]",
            "text/plain": [
              "<Figure size 432x288 with 1 Axes>"
            ]
          },
          "metadata": {
            "tags": [],
            "needs_background": "light"
          }
        }
      ]
    },
    {
      "cell_type": "code",
      "metadata": {
        "trusted": true,
        "id": "JoDp6-xily9A",
        "outputId": "17c2d8a9-84b4-45eb-a5ab-443bdf4f25c4",
        "colab": {
          "base_uri": "https://localhost:8080/",
          "height": 280
        }
      },
      "source": [
        "sns.barplot(x=\"bin_3\",y=\"target\",data=train);"
      ],
      "execution_count": 90,
      "outputs": [
        {
          "output_type": "display_data",
          "data": {
            "image/png": "[encoded data removed]",
            "text/plain": [
              "<Figure size 432x288 with 1 Axes>"
            ]
          },
          "metadata": {
            "tags": [],
            "needs_background": "light"
          }
        }
      ]
    },
    {
      "cell_type": "code",
      "metadata": {
        "trusted": true,
        "id": "qcVlUoTxly9H",
        "outputId": "bf42b2aa-1662-4a03-9a73-f2c7182e2845",
        "colab": {
          "base_uri": "https://localhost:8080/",
          "height": 34
        }
      },
      "source": [
        "train[\"bin_3\"].unique()"
      ],
      "execution_count": 91,
      "outputs": [
        {
          "output_type": "execute_result",
          "data": {
            "text/plain": [
              "array(['T', 'F'], dtype=object)"
            ]
          },
          "metadata": {
            "tags": []
          },
          "execution_count": 91
        }
      ]
    },
    {
      "cell_type": "code",
      "metadata": {
        "trusted": true,
        "id": "HNJ8A-u7ly9P"
      },
      "source": [
        "bin_3_mapping={\"T\":0,\"F\":1}\n",
        "train[\"bin_3\"]=train[\"bin_3\"].map(bin_3_mapping)"
      ],
      "execution_count": 92,
      "outputs": []
    },
    {
      "cell_type": "code",
      "metadata": {
        "trusted": true,
        "id": "pTJg7JT5ly9V",
        "outputId": "96777a96-4e6a-42c9-9d2d-2bd4a179d3c3",
        "colab": {
          "base_uri": "https://localhost:8080/",
          "height": 282
        }
      },
      "source": [
        "sns.barplot(x=\"bin_4\",y=\"target\",data=train);"
      ],
      "execution_count": 93,
      "outputs": [
        {
          "output_type": "display_data",
          "data": {
            "image/png": "[encoded data removed]",
            "text/plain": [
              "<Figure size 432x288 with 1 Axes>"
            ]
          },
          "metadata": {
            "tags": [],
            "needs_background": "light"
          }
        }
      ]
    },
    {
      "cell_type": "code",
      "metadata": {
        "trusted": true,
        "id": "mL2lDwJwly9c"
      },
      "source": [
        "bin_4_mapping={\"Y\":0,\"N\":1}\n",
        "train[\"bin_4\"]=train[\"bin_4\"].map(bin_4_mapping)"
      ],
      "execution_count": 94,
      "outputs": []
    },
    {
      "cell_type": "code",
      "metadata": {
        "trusted": true,
        "id": "hOwun1Efly9i",
        "outputId": "e78290ed-f927-4328-f782-23ea249b02f8",
        "colab": {
          "base_uri": "https://localhost:8080/",
          "height": 280
        }
      },
      "source": [
        "sns.barplot(x=\"nom_0\",y=\"target\",data=train);"
      ],
      "execution_count": 95,
      "outputs": [
        {
          "output_type": "display_data",
          "data": {
            "image/png": "[encoded data removed]",
            "text/plain": [
              "<Figure size 432x288 with 1 Axes>"
            ]
          },
          "metadata": {
            "tags": [],
            "needs_background": "light"
          }
        }
      ]
    },
    {
      "cell_type": "code",
      "metadata": {
        "trusted": true,
        "id": "9SHqhkvjly9p"
      },
      "source": [
        "nom_0_mapping={\"Blue\":0,\"Green\":1,\"Red\":2}\n",
        "train[\"nom_0\"]=train[\"nom_0\"].map(nom_0_mapping)"
      ],
      "execution_count": 96,
      "outputs": []
    },
    {
      "cell_type": "code",
      "metadata": {
        "trusted": true,
        "id": "t9I9tPXhly9w",
        "outputId": "e013bc75-e9a5-4287-dade-a695ad2033ec",
        "colab": {
          "base_uri": "https://localhost:8080/",
          "height": 280
        }
      },
      "source": [
        "sns.barplot(x=\"nom_1\",y=\"target\",data=train);"
      ],
      "execution_count": 97,
      "outputs": [
        {
          "output_type": "display_data",
          "data": {
            "image/png": "[encoded data removed]",
            "text/plain": [
              "<Figure size 432x288 with 1 Axes>"
            ]
          },
          "metadata": {
            "tags": [],
            "needs_background": "light"
          }
        }
      ]
    },
    {
      "cell_type": "code",
      "metadata": {
        "trusted": true,
        "id": "muYMXwGMly-V"
      },
      "source": [
        "nom_1_mapping={\"Triangle\":5,\"Trapezoid\":1,\"Square\":4,\"Star\":2,\"Polygon\":3,\"Circle\":0}\n",
        "train[\"nom_1\"]=train[\"nom_1\"].map(nom_1_mapping)"
      ],
      "execution_count": 98,
      "outputs": []
    },
    {
      "cell_type": "code",
      "metadata": {
        "trusted": true,
        "id": "7mI3zUuwly-e",
        "outputId": "b0083c90-f7a0-46df-ba7b-2fd71514db9c",
        "colab": {
          "base_uri": "https://localhost:8080/",
          "height": 280
        }
      },
      "source": [
        "sns.barplot(x=\"nom_2\",y=\"target\",data=train);"
      ],
      "execution_count": 99,
      "outputs": [
        {
          "output_type": "display_data",
          "data": {
            "image/png": "[encoded data removed]",
            "text/plain": [
              "<Figure size 432x288 with 1 Axes>"
            ]
          },
          "metadata": {
            "tags": [],
            "needs_background": "light"
          }
        }
      ]
    },
    {
      "cell_type": "code",
      "metadata": {
        "trusted": true,
        "id": "yCI4bnPtly-m",
        "outputId": "a6a1f0e7-d020-4577-8ddb-092ab657b008",
        "colab": {
          "base_uri": "https://localhost:8080/",
          "height": 34
        }
      },
      "source": [
        "train[\"nom_2\"].unique()"
      ],
      "execution_count": 100,
      "outputs": [
        {
          "output_type": "execute_result",
          "data": {
            "text/plain": [
              "array(['Snake', 'Hamster', 'Lion', 'Cat', 'Dog', 'Axolotl'], dtype=object)"
            ]
          },
          "metadata": {
            "tags": []
          },
          "execution_count": 100
        }
      ]
    },
    {
      "cell_type": "code",
      "metadata": {
        "trusted": true,
        "id": "9bSxGc1hly-r"
      },
      "source": [
        "nom_2_mapping={\"Axolotl\":3,\"Hamster\":5,\"Cat\":4,\"Dog\":0,\"Lion\":1,\"Snake\":2}\n",
        "train[\"nom_2\"]=train[\"nom_2\"].map(nom_2_mapping)"
      ],
      "execution_count": 101,
      "outputs": []
    },
    {
      "cell_type": "code",
      "metadata": {
        "trusted": true,
        "id": "nxGTQcOjly-w",
        "outputId": "42ef8dff-7808-4b76-a3b0-86970877f5fd",
        "colab": {
          "base_uri": "https://localhost:8080/",
          "height": 280
        }
      },
      "source": [
        "sns.barplot(x=\"nom_3\",y=\"target\",data=train);"
      ],
      "execution_count": 102,
      "outputs": [
        {
          "output_type": "display_data",
          "data": {
            "image/png": "[encoded data removed]",
            "text/plain": [
              "<Figure size 432x288 with 1 Axes>"
            ]
          },
          "metadata": {
            "tags": [],
            "needs_background": "light"
          }
        }
      ]
    },
    {
      "cell_type": "code",
      "metadata": {
        "trusted": true,
        "id": "RFbsrY_vly-1",
        "outputId": "b02672af-09df-45df-d9d3-3a99cbc1f557",
        "colab": {
          "base_uri": "https://localhost:8080/",
          "height": 52
        }
      },
      "source": [
        "train[\"nom_3\"].unique()"
      ],
      "execution_count": 103,
      "outputs": [
        {
          "output_type": "execute_result",
          "data": {
            "text/plain": [
              "array(['Finland', 'Russia', 'Canada', 'Costa Rica', 'China', 'India'],\n",
              "      dtype=object)"
            ]
          },
          "metadata": {
            "tags": []
          },
          "execution_count": 103
        }
      ]
    },
    {
      "cell_type": "code",
      "metadata": {
        "trusted": true,
        "id": "dHdr5B-Ply-5"
      },
      "source": [
        "nom_3_mapping={\"China\":2,\"India\":5,\"Russia\":1,\"Canada\":4,\"Finland\":0,\"Costa Rica\":3}\n",
        "train[\"nom_3\"]=train[\"nom_3\"].map(nom_3_mapping)"
      ],
      "execution_count": 104,
      "outputs": []
    },
    {
      "cell_type": "code",
      "metadata": {
        "trusted": true,
        "id": "rifQn3PYly-9",
        "outputId": "0a3a68c4-0eb2-49fc-8f88-5ec98f0ee09c",
        "colab": {
          "base_uri": "https://localhost:8080/",
          "height": 280
        }
      },
      "source": [
        "sns.barplot(x=\"nom_4\",y=\"target\",data=train);"
      ],
      "execution_count": 105,
      "outputs": [
        {
          "output_type": "display_data",
          "data": {
            "image/png": "[encoded data removed]",
            "text/plain": [
              "<Figure size 432x288 with 1 Axes>"
            ]
          },
          "metadata": {
            "tags": [],
            "needs_background": "light"
          }
        }
      ]
    },
    {
      "cell_type": "code",
      "metadata": {
        "trusted": true,
        "id": "-VThPWsPly_E",
        "outputId": "3018c302-1d08-4301-dbb0-b9be88b49674",
        "colab": {
          "base_uri": "https://localhost:8080/",
          "height": 34
        }
      },
      "source": [
        "train[\"nom_4\"].unique()"
      ],
      "execution_count": 106,
      "outputs": [
        {
          "output_type": "execute_result",
          "data": {
            "text/plain": [
              "array(['Bassoon', 'Piano', 'Theremin', 'Oboe'], dtype=object)"
            ]
          },
          "metadata": {
            "tags": []
          },
          "execution_count": 106
        }
      ]
    },
    {
      "cell_type": "code",
      "metadata": {
        "trusted": true,
        "id": "ebSmUo5Uly_I"
      },
      "source": [
        "nom_4_mapping={\"Piano\":1,\"Bassoon\":0,\"Oboe\":2,\"Theremin\":3}\n",
        "train[\"nom_4\"]=train[\"nom_4\"].map(nom_4_mapping)"
      ],
      "execution_count": 107,
      "outputs": []
    },
    {
      "cell_type": "code",
      "metadata": {
        "trusted": true,
        "id": "SX5trLxYly_K"
      },
      "source": [
        "#sns.barplot(x=\"nom_5\",y=\"target\",data=train);\n",
        "#너무 많음"
      ],
      "execution_count": 108,
      "outputs": []
    },
    {
      "cell_type": "code",
      "metadata": {
        "trusted": true,
        "id": "sd5cv_gSly_M"
      },
      "source": [
        "train = train.drop([\"nom_5\"],axis=1)"
      ],
      "execution_count": 109,
      "outputs": []
    },
    {
      "cell_type": "code",
      "metadata": {
        "trusted": true,
        "id": "jOjBvirgly_R"
      },
      "source": [
        "#sns.barplot(x=\"nom_6\",y=\"target\",data=train);\n",
        "#너무 많음"
      ],
      "execution_count": 110,
      "outputs": []
    },
    {
      "cell_type": "code",
      "metadata": {
        "trusted": true,
        "id": "oIBkNXH8ly_W"
      },
      "source": [
        "train = train.drop([\"nom_6\"],axis=1)"
      ],
      "execution_count": 111,
      "outputs": []
    },
    {
      "cell_type": "code",
      "metadata": {
        "trusted": true,
        "id": "i8IGDWHwly_a"
      },
      "source": [
        "#sns.barplot(x=\"nom_7\",y=\"target\",data=train);\n",
        "#너무 많음"
      ],
      "execution_count": 112,
      "outputs": []
    },
    {
      "cell_type": "code",
      "metadata": {
        "trusted": true,
        "id": "ZTKN9VcEly_d"
      },
      "source": [
        "train = train.drop([\"nom_7\"],axis=1)"
      ],
      "execution_count": 113,
      "outputs": []
    },
    {
      "cell_type": "code",
      "metadata": {
        "trusted": true,
        "id": "mdrD5lgBly_g"
      },
      "source": [
        "#sns.barplot(x=\"nom_8\",y=\"target\",data=train);\n",
        "#너무 많음"
      ],
      "execution_count": 114,
      "outputs": []
    },
    {
      "cell_type": "code",
      "metadata": {
        "trusted": true,
        "id": "Ck4U7578ly_l"
      },
      "source": [
        "train = train.drop([\"nom_8\"],axis=1)"
      ],
      "execution_count": 115,
      "outputs": []
    },
    {
      "cell_type": "code",
      "metadata": {
        "trusted": true,
        "id": "KeeCcGhWly_p"
      },
      "source": [
        "#sns.barplot(x=\"nom_9\",y=\"target\",data=train);\n",
        "#겁나 많음"
      ],
      "execution_count": 116,
      "outputs": []
    },
    {
      "cell_type": "code",
      "metadata": {
        "trusted": true,
        "id": "0nbZFeu1ly_t"
      },
      "source": [
        "train = train.drop([\"nom_9\"],axis=1)"
      ],
      "execution_count": 117,
      "outputs": []
    },
    {
      "cell_type": "markdown",
      "metadata": {
        "id": "mNN5q2yJly_x"
      },
      "source": [
        "이것을 해결하기 위하여 one hot encoding 등의 방법이 있는데 i don't know hmm so anybody someone who teach me"
      ]
    },
    {
      "cell_type": "markdown",
      "metadata": {
        "id": "nLkIYcd1ly_z"
      },
      "source": [
        "로딩이 오래걸리는 것을 방지하기 위해 unique를 먼저하여 돌다리를 두들겨보고 건넌다"
      ]
    },
    {
      "cell_type": "code",
      "metadata": {
        "trusted": true,
        "id": "rpz6hpTfly_0",
        "outputId": "aa96260c-dea8-4a3d-a625-73ba38b3e96b",
        "colab": {
          "base_uri": "https://localhost:8080/",
          "height": 34
        }
      },
      "source": [
        "train[\"ord_0\"].unique()"
      ],
      "execution_count": 118,
      "outputs": [
        {
          "output_type": "execute_result",
          "data": {
            "text/plain": [
              "array([2, 1, 3])"
            ]
          },
          "metadata": {
            "tags": []
          },
          "execution_count": 118
        }
      ]
    },
    {
      "cell_type": "code",
      "metadata": {
        "trusted": true,
        "id": "CX8RHEu0ly_3",
        "outputId": "37d818af-7b74-4b7a-d7a0-fd5bf460fbfd",
        "colab": {
          "base_uri": "https://localhost:8080/",
          "height": 280
        }
      },
      "source": [
        "sns.barplot(x=\"ord_0\",y=\"target\",data=train);"
      ],
      "execution_count": 119,
      "outputs": [
        {
          "output_type": "display_data",
          "data": {
            "image/png": "[encoded data removed]",
            "text/plain": [
              "<Figure size 432x288 with 1 Axes>"
            ]
          },
          "metadata": {
            "tags": [],
            "needs_background": "light"
          }
        }
      ]
    },
    {
      "cell_type": "code",
      "metadata": {
        "trusted": true,
        "id": "g4fDMl0Dly_6",
        "outputId": "bcd1ffb6-f21a-47a2-8264-65a69155fd1f",
        "colab": {
          "base_uri": "https://localhost:8080/",
          "height": 52
        }
      },
      "source": [
        "train[\"ord_1\"].unique()"
      ],
      "execution_count": 120,
      "outputs": [
        {
          "output_type": "execute_result",
          "data": {
            "text/plain": [
              "array(['Grandmaster', 'Expert', 'Novice', 'Contributor', 'Master'],\n",
              "      dtype=object)"
            ]
          },
          "metadata": {
            "tags": []
          },
          "execution_count": 120
        }
      ]
    },
    {
      "cell_type": "code",
      "metadata": {
        "trusted": true,
        "id": "R5rOaHm8ly_-",
        "outputId": "77e0c0a9-f61d-4077-f7a1-55d12a5704dc",
        "colab": {
          "base_uri": "https://localhost:8080/",
          "height": 280
        }
      },
      "source": [
        "sns.barplot(x=\"ord_1\",y=\"target\",data=train);"
      ],
      "execution_count": 121,
      "outputs": [
        {
          "output_type": "display_data",
          "data": {
            "image/png": "[encoded data removed]",
            "text/plain": [
              "<Figure size 432x288 with 1 Axes>"
            ]
          },
          "metadata": {
            "tags": [],
            "needs_background": "light"
          }
        }
      ]
    },
    {
      "cell_type": "code",
      "metadata": {
        "trusted": true,
        "id": "WztrNfJrlzAB"
      },
      "source": [
        "ord_1_mapping={\"Novice\":0,\"Contributor\":1,\"Expert\":2,\"Master\":3,\"Grandmaster\":4}\n",
        "train[\"ord_1\"]=train[\"ord_1\"].map(ord_1_mapping)"
      ],
      "execution_count": 122,
      "outputs": []
    },
    {
      "cell_type": "code",
      "metadata": {
        "trusted": true,
        "id": "3qHAhbDVlzAE",
        "outputId": "aeb9ce25-f4ae-47d3-d610-a1f87c5f6017",
        "colab": {
          "base_uri": "https://localhost:8080/",
          "height": 52
        }
      },
      "source": [
        "train[\"ord_2\"].unique()"
      ],
      "execution_count": 123,
      "outputs": [
        {
          "output_type": "execute_result",
          "data": {
            "text/plain": [
              "array(['Cold', 'Hot', 'Lava Hot', 'Boiling Hot', 'Freezing', 'Warm'],\n",
              "      dtype=object)"
            ]
          },
          "metadata": {
            "tags": []
          },
          "execution_count": 123
        }
      ]
    },
    {
      "cell_type": "code",
      "metadata": {
        "trusted": true,
        "id": "j5WELlbPlzAI",
        "outputId": "ca33d516-43f5-4b64-a410-decd424afa03",
        "colab": {
          "base_uri": "https://localhost:8080/",
          "height": 280
        }
      },
      "source": [
        "sns.barplot(x=\"ord_2\",y=\"target\",data=train);"
      ],
      "execution_count": 124,
      "outputs": [
        {
          "output_type": "display_data",
          "data": {
            "image/png": "[encoded data removed]",
            "text/plain": [
              "<Figure size 432x288 with 1 Axes>"
            ]
          },
          "metadata": {
            "tags": [],
            "needs_background": "light"
          }
        }
      ]
    },
    {
      "cell_type": "code",
      "metadata": {
        "trusted": true,
        "id": "Va8I_YImlzAM"
      },
      "source": [
        "ord_2_mapping={\"Freezing\":0,\"Cold\":1,\"Warm\":2,\"Hot\":3,\"Boiling Hot\":4,\"Lava Hot\":5}\n",
        "train[\"ord_2\"]=train[\"ord_2\"].map(ord_2_mapping)"
      ],
      "execution_count": 125,
      "outputs": []
    },
    {
      "cell_type": "code",
      "metadata": {
        "trusted": true,
        "id": "fr05bzeylzAP",
        "outputId": "81c7925b-385a-4aec-a58c-1e6e86253cf3",
        "colab": {
          "base_uri": "https://localhost:8080/",
          "height": 52
        }
      },
      "source": [
        "train[\"ord_3\"].unique()"
      ],
      "execution_count": 126,
      "outputs": [
        {
          "output_type": "execute_result",
          "data": {
            "text/plain": [
              "array(['h', 'a', 'i', 'j', 'g', 'e', 'd', 'b', 'k', 'f', 'l', 'n', 'o',\n",
              "       'c', 'm'], dtype=object)"
            ]
          },
          "metadata": {
            "tags": []
          },
          "execution_count": 126
        }
      ]
    },
    {
      "cell_type": "code",
      "metadata": {
        "trusted": true,
        "id": "Rku-GPGVlzAS",
        "outputId": "348990c7-0533-46db-d7fc-556637574aba",
        "colab": {
          "base_uri": "https://localhost:8080/",
          "height": 280
        }
      },
      "source": [
        "sns.barplot(x=\"ord_3\",y=\"target\",data=train);"
      ],
      "execution_count": 127,
      "outputs": [
        {
          "output_type": "display_data",
          "data": {
            "image/png": "[encoded data removed]",
            "text/plain": [
              "<Figure size 432x288 with 1 Axes>"
            ]
          },
          "metadata": {
            "tags": [],
            "needs_background": "light"
          }
        }
      ]
    },
    {
      "cell_type": "code",
      "metadata": {
        "trusted": true,
        "id": "ItSywFwMlzAU"
      },
      "source": [
        "ord_3_mapping={\"a\":0,\"b\":1,\"c\":2,\"d\":3,\"e\":4,\"f\":5,\"g\":6,\"h\":7,\"i\":8,\"j\":9,\"k\":10,\"l\":11,\"m\":12,\"n\":13,\"o\":14}\n",
        "train[\"ord_3\"]=train[\"ord_3\"].map(ord_3_mapping)"
      ],
      "execution_count": 128,
      "outputs": []
    },
    {
      "cell_type": "code",
      "metadata": {
        "trusted": true,
        "id": "o6tA2OPSlzAX",
        "outputId": "837fcf21-141c-45c4-c60d-84722c178312",
        "colab": {
          "base_uri": "https://localhost:8080/",
          "height": 70
        }
      },
      "source": [
        "train[\"ord_4\"].unique()"
      ],
      "execution_count": 129,
      "outputs": [
        {
          "output_type": "execute_result",
          "data": {
            "text/plain": [
              "array(['D', 'A', 'R', 'E', 'P', 'K', 'V', 'Q', 'Z', 'L', 'F', 'T', 'U',\n",
              "       'S', 'Y', 'B', 'H', 'J', 'N', 'G', 'W', 'I', 'O', 'C', 'X', 'M'],\n",
              "      dtype=object)"
            ]
          },
          "metadata": {
            "tags": []
          },
          "execution_count": 129
        }
      ]
    },
    {
      "cell_type": "code",
      "metadata": {
        "trusted": true,
        "id": "vXXx1hILlzAg",
        "outputId": "29efb654-2d62-40c9-dd55-a0ab0627ff18",
        "colab": {
          "base_uri": "https://localhost:8080/",
          "height": 280
        }
      },
      "source": [
        "sns.barplot(x=\"ord_4\",y=\"target\",data=train);"
      ],
      "execution_count": 130,
      "outputs": [
        {
          "output_type": "display_data",
          "data": {
            "image/png": "[encoded data removed]",
            "text/plain": [
              "<Figure size 432x288 with 1 Axes>"
            ]
          },
          "metadata": {
            "tags": [],
            "needs_background": "light"
          }
        }
      ]
    },
    {
      "cell_type": "code",
      "metadata": {
        "trusted": true,
        "id": "7uVxDD5rlzAl"
      },
      "source": [
        "ord_4_mapping={\"A\":0,\"B\":1,\"C\":2,\"D\":3,\"E\":4,\"F\":5,\"G\":6,\"H\":7,\"I\":8,\"J\":9,\"K\":10,\"L\":11,\"M\":12,\"N\":13,\"O\":14,\"P\":15,\"Q\":16,\"R\":17,\"S\":18,\"T\":19,\"U\":20,\"V\":21,\"W\":22,\"X\":23,\"Y\":24,\"Z\":25}\n",
        "train[\"ord_4\"]=train[\"ord_4\"].map(ord_4_mapping)"
      ],
      "execution_count": 131,
      "outputs": []
    },
    {
      "cell_type": "code",
      "metadata": {
        "trusted": true,
        "id": "ROUKBu4glzAq",
        "outputId": "1c13609b-1299-49f6-bfef-ba0bb1f35704",
        "colab": {
          "base_uri": "https://localhost:8080/",
          "height": 334
        }
      },
      "source": [
        "train[\"ord_5\"].unique()\n",
        "#pass"
      ],
      "execution_count": 132,
      "outputs": [
        {
          "output_type": "execute_result",
          "data": {
            "text/plain": [
              "array(['kr', 'bF', 'Jc', 'kW', 'qP', 'PZ', 'wy', 'Ed', 'qo', 'CZ', 'qX',\n",
              "       'su', 'dP', 'aP', 'MV', 'oC', 'RL', 'fh', 'gJ', 'Hj', 'TR', 'CL',\n",
              "       'Sc', 'eQ', 'kC', 'qK', 'dh', 'gM', 'Jf', 'fO', 'Eg', 'KZ', 'Vx',\n",
              "       'Fo', 'sV', 'eb', 'YC', 'RG', 'Ye', 'qA', 'lL', 'Qh', 'Bd', 'be',\n",
              "       'hT', 'lF', 'nX', 'kK', 'av', 'uS', 'Jt', 'PA', 'Er', 'Qb', 'od',\n",
              "       'ut', 'Dx', 'Xi', 'on', 'Dc', 'sD', 'rZ', 'Uu', 'sn', 'yc', 'Gb',\n",
              "       'Kq', 'dQ', 'hp', 'kL', 'je', 'CU', 'Fd', 'PQ', 'Bn', 'ex', 'hh',\n",
              "       'ac', 'rp', 'dE', 'oG', 'oK', 'cp', 'mm', 'vK', 'ek', 'dO', 'XI',\n",
              "       'CM', 'Vf', 'aO', 'qv', 'jp', 'Zq', 'Qo', 'DN', 'TZ', 'ke', 'cG',\n",
              "       'tP', 'ud', 'tv', 'aM', 'xy', 'lx', 'To', 'uy', 'ZS', 'vy', 'ZR',\n",
              "       'AP', 'GJ', 'Wv', 'ri', 'qw', 'Xh', 'FI', 'nh', 'KR', 'dB', 'BE',\n",
              "       'Bb', 'mc', 'MC', 'tM', 'NV', 'ih', 'IK', 'Ob', 'RP', 'dN', 'us',\n",
              "       'dZ', 'yN', 'Nf', 'QM', 'jV', 'sY', 'wu', 'SB', 'UO', 'Mx', 'JX',\n",
              "       'Ry', 'Uk', 'uJ', 'LE', 'ps', 'kE', 'MO', 'kw', 'yY', 'zU', 'bJ',\n",
              "       'Kf', 'ck', 'mb', 'Os', 'Ps', 'Ml', 'Ai', 'Wc', 'GD', 'll', 'aF',\n",
              "       'iT', 'cA', 'WE', 'Gx', 'Nk', 'OR', 'Rm', 'BA', 'eG', 'cW', 'jS',\n",
              "       'DH', 'hL', 'Mf', 'Yb', 'Aj', 'oH', 'Zc', 'qJ', 'eg', 'xP', 'vq',\n",
              "       'Id', 'pa', 'ux', 'kU', 'Cl'], dtype=object)"
            ]
          },
          "metadata": {
            "tags": []
          },
          "execution_count": 132
        }
      ]
    },
    {
      "cell_type": "code",
      "metadata": {
        "trusted": true,
        "id": "FrctbeYUlzAs"
      },
      "source": [
        "train = train.drop([\"ord_5\"],axis=1)"
      ],
      "execution_count": 133,
      "outputs": []
    },
    {
      "cell_type": "code",
      "metadata": {
        "trusted": true,
        "id": "4afwLDETlzAv",
        "outputId": "c57a44b2-7d95-4896-cb53-a8b14b4a0f37",
        "colab": {
          "base_uri": "https://localhost:8080/",
          "height": 34
        }
      },
      "source": [
        "train[\"day\"].unique()"
      ],
      "execution_count": 134,
      "outputs": [
        {
          "output_type": "execute_result",
          "data": {
            "text/plain": [
              "array([2, 7, 5, 4, 3, 1, 6])"
            ]
          },
          "metadata": {
            "tags": []
          },
          "execution_count": 134
        }
      ]
    },
    {
      "cell_type": "code",
      "metadata": {
        "trusted": true,
        "id": "apH5vK8ElzA0",
        "outputId": "a3c0b103-d573-4ee8-af11-f6448ebf2caf",
        "colab": {
          "base_uri": "https://localhost:8080/",
          "height": 279
        }
      },
      "source": [
        "sns.barplot(x=\"day\",y=\"target\",data=train);"
      ],
      "execution_count": 135,
      "outputs": [
        {
          "output_type": "display_data",
          "data": {
            "image/png": "[encoded data removed]",
            "text/plain": [
              "<Figure size 432x288 with 1 Axes>"
            ]
          },
          "metadata": {
            "tags": [],
            "needs_background": "light"
          }
        }
      ]
    },
    {
      "cell_type": "code",
      "metadata": {
        "trusted": true,
        "id": "uj3t045clzA2",
        "outputId": "9e460da8-abe2-46b6-f438-3936bfc389b3",
        "colab": {
          "base_uri": "https://localhost:8080/",
          "height": 34
        }
      },
      "source": [
        "train[\"month\"].unique()"
      ],
      "execution_count": 136,
      "outputs": [
        {
          "output_type": "execute_result",
          "data": {
            "text/plain": [
              "array([ 2,  8,  1,  4, 10,  3,  7,  9, 12, 11,  5,  6])"
            ]
          },
          "metadata": {
            "tags": []
          },
          "execution_count": 136
        }
      ]
    },
    {
      "cell_type": "code",
      "metadata": {
        "trusted": true,
        "id": "6nZ8KNqrlzA5",
        "outputId": "e9b71232-aece-4321-b8d8-7ee7847cfdba",
        "colab": {
          "base_uri": "https://localhost:8080/",
          "height": 279
        }
      },
      "source": [
        "sns.barplot(x=\"month\",y=\"target\",data=train);"
      ],
      "execution_count": 137,
      "outputs": [
        {
          "output_type": "display_data",
          "data": {
            "image/png": "[encoded data removed]",
            "text/plain": [
              "<Figure size 432x288 with 1 Axes>"
            ]
          },
          "metadata": {
            "tags": [],
            "needs_background": "light"
          }
        }
      ]
    },
    {
      "cell_type": "code",
      "metadata": {
        "trusted": true,
        "id": "NQ7XFc9TlzA7",
        "outputId": "7c0087c8-aa22-414e-d0cc-53fa76a54798",
        "colab": {
          "base_uri": "https://localhost:8080/",
          "height": 474
        }
      },
      "source": [
        "train.info()"
      ],
      "execution_count": 138,
      "outputs": [
        {
          "output_type": "stream",
          "text": [
            "<class 'pandas.core.frame.DataFrame'>\n",
            "RangeIndex: 300000 entries, 0 to 299999\n",
            "Data columns (total 19 columns):\n",
            " #   Column  Non-Null Count   Dtype\n",
            "---  ------  --------------   -----\n",
            " 0   id      300000 non-null  int64\n",
            " 1   bin_0   300000 non-null  int64\n",
            " 2   bin_1   300000 non-null  int64\n",
            " 3   bin_2   300000 non-null  int64\n",
            " 4   bin_3   300000 non-null  int64\n",
            " 5   bin_4   300000 non-null  int64\n",
            " 6   nom_0   300000 non-null  int64\n",
            " 7   nom_1   300000 non-null  int64\n",
            " 8   nom_2   300000 non-null  int64\n",
            " 9   nom_3   300000 non-null  int64\n",
            " 10  nom_4   300000 non-null  int64\n",
            " 11  ord_0   300000 non-null  int64\n",
            " 12  ord_1   300000 non-null  int64\n",
            " 13  ord_2   300000 non-null  int64\n",
            " 14  ord_3   300000 non-null  int64\n",
            " 15  ord_4   300000 non-null  int64\n",
            " 16  day     300000 non-null  int64\n",
            " 17  month   300000 non-null  int64\n",
            " 18  target  300000 non-null  int64\n",
            "dtypes: int64(19)\n",
            "memory usage: 43.5 MB\n"
          ],
          "name": "stdout"
        }
      ]
    },
    {
      "cell_type": "code",
      "metadata": {
        "trusted": true,
        "id": "wzz8A_t0lzA-"
      },
      "source": [
        "from sklearn.model_selection import train_test_split\n",
        "#from sklearn.linear_model import LogisticRegression\n",
        "#from sklearn.ensemble import RandomForestClassifier\n",
        "#from sklearn.tree import DecisionTreeRegressor\n",
        "#from sklearn.ensemble import RandomForestRegressor"
      ],
      "execution_count": 139,
      "outputs": []
    },
    {
      "cell_type": "code",
      "metadata": {
        "trusted": true,
        "id": "yrCeFjqzlzBh"
      },
      "source": [
        "test[\"bin_3\"]=test[\"bin_3\"].map(bin_3_mapping)\n",
        "test[\"bin_4\"]=test[\"bin_4\"].map(bin_4_mapping)\n",
        "test[\"nom_0\"]=test[\"nom_0\"].map(nom_0_mapping)\n",
        "test[\"nom_1\"]=test[\"nom_1\"].map(nom_1_mapping)\n",
        "test[\"nom_2\"]=test[\"nom_2\"].map(nom_2_mapping)\n",
        "test[\"nom_3\"]=test[\"nom_3\"].map(nom_3_mapping)\n",
        "test[\"nom_4\"]=test[\"nom_4\"].map(nom_4_mapping)\n",
        "test[\"ord_1\"]=test[\"ord_1\"].map(ord_1_mapping)\n",
        "test[\"ord_2\"]=test[\"ord_2\"].map(ord_2_mapping)\n",
        "test[\"ord_3\"]=test[\"ord_3\"].map(ord_3_mapping)\n",
        "test[\"ord_4\"]=test[\"ord_4\"].map(ord_4_mapping)\n",
        "test = test.drop([\"nom_5\"],axis=1)\n",
        "test = test.drop([\"nom_6\"],axis=1)\n",
        "test = test.drop([\"nom_7\"],axis=1)\n",
        "test = test.drop([\"nom_8\"],axis=1)\n",
        "test = test.drop([\"nom_9\"],axis=1)\n",
        "test = test.drop([\"ord_5\"],axis=1)\n",
        "test = test.drop([\"day\"],axis=1)\n",
        "test = test.drop([\"month\"],axis=1)\n",
        "train = train.drop([\"day\"],axis=1)\n",
        "train = train.drop([\"month\"],axis=1)"
      ],
      "execution_count": 140,
      "outputs": []
    },
    {
      "cell_type": "code",
      "metadata": {
        "trusted": true,
        "id": "47sNBH-XlzBB"
      },
      "source": [
        "X=train.drop(['target'],axis=1)\n",
        "y=train[\"target\"]"
      ],
      "execution_count": 141,
      "outputs": []
    },
    {
      "cell_type": "code",
      "metadata": {
        "trusted": true,
        "id": "IAoQBWSRlzBE"
      },
      "source": [
        "train_X, val_X, train_y, val_y = train_test_split(X, y, random_state=1)"
      ],
      "execution_count": 142,
      "outputs": []
    },
    {
      "cell_type": "code",
      "metadata": {
        "trusted": true,
        "id": "AH8x5rXvlzBH"
      },
      "source": [
        "#from sklearn.metrics import accuracy_score\n",
        "#정확도 분류 점수"
      ],
      "execution_count": 143,
      "outputs": []
    },
    {
      "cell_type": "code",
      "metadata": {
        "trusted": true,
        "id": "O3YnoExxlzBK"
      },
      "source": [
        "from sklearn.metrics import roc_auc_score"
      ],
      "execution_count": 144,
      "outputs": []
    },
    {
      "cell_type": "code",
      "metadata": {
        "trusted": true,
        "id": "XCGVGhYblzBL",
        "outputId": "dac4cb2d-b1cc-456e-8792-b9c67a7b69a1",
        "colab": {
          "base_uri": "https://localhost:8080/",
          "height": 35
        }
      },
      "source": [
        "\"\"\"rforest = RandomForestClassifier()\n",
        "rforest.fit(train_X, train_y)\n",
        "pred_y=rforest.predict(val_X)\n",
        "roc_rforest=roc_auc_score(val_y,pred_y)\n",
        "print(roc_rforest)\"\"\""
      ],
      "execution_count": 145,
      "outputs": [
        {
          "output_type": "execute_result",
          "data": {
            "application/vnd.google.colaboratory.intrinsic+json": {
              "type": "string"
            },
            "text/plain": [
              "'rforest = RandomForestClassifier()\\nrforest.fit(train_X, train_y)\\npred_y=rforest.predict(val_X)\\nroc_rforest=roc_auc_score(val_y,pred_y)\\nprint(roc_rforest)'"
            ]
          },
          "metadata": {
            "tags": []
          },
          "execution_count": 145
        }
      ]
    },
    {
      "cell_type": "code",
      "metadata": {
        "trusted": true,
        "id": "_euZCcxTlzBP",
        "outputId": "0ca7c2bd-2dc9-41bd-cce9-538d60037813",
        "colab": {
          "base_uri": "https://localhost:8080/",
          "height": 35
        }
      },
      "source": [
        "\"\"\"logreg = LogisticRegression()\n",
        "logreg.fit(train_X, train_y)\n",
        "pred_y=logreg.predict(val_X)\n",
        "roc_logreg=roc_auc_score(val_y,pred_y)\n",
        "print(roc_logreg)\"\"\""
      ],
      "execution_count": 146,
      "outputs": [
        {
          "output_type": "execute_result",
          "data": {
            "application/vnd.google.colaboratory.intrinsic+json": {
              "type": "string"
            },
            "text/plain": [
              "'logreg = LogisticRegression()\\nlogreg.fit(train_X, train_y)\\npred_y=logreg.predict(val_X)\\nroc_logreg=roc_auc_score(val_y,pred_y)\\nprint(roc_logreg)'"
            ]
          },
          "metadata": {
            "tags": []
          },
          "execution_count": 146
        }
      ]
    },
    {
      "cell_type": "code",
      "metadata": {
        "trusted": true,
        "id": "4Lx_et-DlzBR",
        "outputId": "18cc7fc7-02aa-4ef5-c9a1-8b72d3f3d05b",
        "colab": {
          "base_uri": "https://localhost:8080/",
          "height": 35
        }
      },
      "source": [
        "\"\"\"porsche = DecisionTreeRegressor(max_leaf_nodes=100, random_state=1)\n",
        "porsche.fit(train_X, train_y)\n",
        "pred_y = porsche.predict(val_X)\n",
        "roc_DTR=roc_auc_score(val_y,pred_y)\n",
        "print(roc_DTR)\"\"\""
      ],
      "execution_count": 147,
      "outputs": [
        {
          "output_type": "execute_result",
          "data": {
            "application/vnd.google.colaboratory.intrinsic+json": {
              "type": "string"
            },
            "text/plain": [
              "'porsche = DecisionTreeRegressor(max_leaf_nodes=100, random_state=1)\\nporsche.fit(train_X, train_y)\\npred_y = porsche.predict(val_X)\\nroc_DTR=roc_auc_score(val_y,pred_y)\\nprint(roc_DTR)'"
            ]
          },
          "metadata": {
            "tags": []
          },
          "execution_count": 147
        }
      ]
    },
    {
      "cell_type": "code",
      "metadata": {
        "trusted": true,
        "id": "N3lNXqJslzBT",
        "outputId": "8641888f-b4ce-4f8d-ab84-1f9b9730e5ec",
        "colab": {
          "base_uri": "https://localhost:8080/",
          "height": 35
        }
      },
      "source": [
        "\"\"\"pagani = RandomForestRegressor(random_state=1)\n",
        "pagani.fit(train_X, train_y)\n",
        "pred_y = pagani.predict(val_X)\n",
        "roc_forestd=roc_auc_score(val_y,pred_y)\n",
        "print(roc_forestd)\"\"\""
      ],
      "execution_count": 148,
      "outputs": [
        {
          "output_type": "execute_result",
          "data": {
            "application/vnd.google.colaboratory.intrinsic+json": {
              "type": "string"
            },
            "text/plain": [
              "'pagani = RandomForestRegressor(random_state=1)\\npagani.fit(train_X, train_y)\\npred_y = pagani.predict(val_X)\\nroc_forestd=roc_auc_score(val_y,pred_y)\\nprint(roc_forestd)'"
            ]
          },
          "metadata": {
            "tags": []
          },
          "execution_count": 148
        }
      ]
    },
    {
      "cell_type": "code",
      "metadata": {
        "trusted": true,
        "id": "CxXYzIB2lzBW",
        "outputId": "ab15d049-474f-4a84-d6e4-6eec4656b8b0",
        "colab": {
          "base_uri": "https://localhost:8080/",
          "height": 53
        }
      },
      "source": [
        "\"\"\"from xgboost import XGBRegressor\n",
        "xgb_model = XGBRegressor(n_estimators=1000, learning_rate=0.02, n_jobs=4)\n",
        "xgb_model.fit(train_X, train_y, \n",
        "             early_stopping_rounds=10, \n",
        "             eval_set=[(val_X, val_y)], \n",
        "             verbose=False)\n",
        "xgb_pred = xgb_model.predict(val_X)\n",
        "print(roc_auc_score(val_y, xgb_pred))\"\"\"\n"
      ],
      "execution_count": 149,
      "outputs": [
        {
          "output_type": "execute_result",
          "data": {
            "application/vnd.google.colaboratory.intrinsic+json": {
              "type": "string"
            },
            "text/plain": [
              "'from xgboost import XGBRegressor\\nxgb_model = XGBRegressor(n_estimators=1000, learning_rate=0.02, n_jobs=4)\\nxgb_model.fit(train_X, train_y, \\n             early_stopping_rounds=10, \\n             eval_set=[(val_X, val_y)], \\n             verbose=False)\\nxgb_pred = xgb_model.predict(val_X)\\nprint(roc_auc_score(val_y, xgb_pred))'"
            ]
          },
          "metadata": {
            "tags": []
          },
          "execution_count": 149
        }
      ]
    },
    {
      "cell_type": "code",
      "metadata": {
        "trusted": true,
        "id": "sfDXm_mUlzBZ",
        "outputId": "6886664c-c26a-4523-8c81-813a8667a60f",
        "colab": {
          "base_uri": "https://localhost:8080/",
          "height": 34
        }
      },
      "source": [
        "from sklearn.linear_model import LinearRegression\n",
        "ferrari = LinearRegression()\n",
        "ferrari.fit(train_X, train_y)\n",
        "pred_y = ferrari.predict(val_X)\n",
        "roc_linear=roc_auc_score(val_y,pred_y)\n",
        "print(roc_linear)"
      ],
      "execution_count": 150,
      "outputs": [
        {
          "output_type": "stream",
          "text": [
            "0.7280445504729106\n"
          ],
          "name": "stdout"
        }
      ]
    },
    {
      "cell_type": "code",
      "metadata": {
        "trusted": true,
        "id": "7KWS3UEFlzBd",
        "outputId": "054a8e4f-e6c6-415b-b4f3-806a6b168716",
        "colab": {
          "base_uri": "https://localhost:8080/",
          "height": 431
        }
      },
      "source": [
        "sample_submission"
      ],
      "execution_count": 151,
      "outputs": [
        {
          "output_type": "execute_result",
          "data": {
            "text/html": [
              "<div>\n",
              "<style scoped>\n",
              "    .dataframe tbody tr th:only-of-type {\n",
              "        vertical-align: middle;\n",
              "    }\n",
              "\n",
              "    .dataframe tbody tr th {\n",
              "        vertical-align: top;\n",
              "    }\n",
              "\n",
              "    .dataframe thead th {\n",
              "        text-align: right;\n",
              "    }\n",
              "</style>\n",
              "<table border=\"1\" class=\"dataframe\">\n",
              "  <thead>\n",
              "    <tr style=\"text-align: right;\">\n",
              "      <th></th>\n",
              "      <th>target</th>\n",
              "    </tr>\n",
              "    <tr>\n",
              "      <th>id</th>\n",
              "      <th></th>\n",
              "    </tr>\n",
              "  </thead>\n",
              "  <tbody>\n",
              "    <tr>\n",
              "      <th>300000</th>\n",
              "      <td>0.5</td>\n",
              "    </tr>\n",
              "    <tr>\n",
              "      <th>300001</th>\n",
              "      <td>0.5</td>\n",
              "    </tr>\n",
              "    <tr>\n",
              "      <th>300002</th>\n",
              "      <td>0.5</td>\n",
              "    </tr>\n",
              "    <tr>\n",
              "      <th>300003</th>\n",
              "      <td>0.5</td>\n",
              "    </tr>\n",
              "    <tr>\n",
              "      <th>300004</th>\n",
              "      <td>0.5</td>\n",
              "    </tr>\n",
              "    <tr>\n",
              "      <th>...</th>\n",
              "      <td>...</td>\n",
              "    </tr>\n",
              "    <tr>\n",
              "      <th>499995</th>\n",
              "      <td>0.5</td>\n",
              "    </tr>\n",
              "    <tr>\n",
              "      <th>499996</th>\n",
              "      <td>0.5</td>\n",
              "    </tr>\n",
              "    <tr>\n",
              "      <th>499997</th>\n",
              "      <td>0.5</td>\n",
              "    </tr>\n",
              "    <tr>\n",
              "      <th>499998</th>\n",
              "      <td>0.5</td>\n",
              "    </tr>\n",
              "    <tr>\n",
              "      <th>499999</th>\n",
              "      <td>0.5</td>\n",
              "    </tr>\n",
              "  </tbody>\n",
              "</table>\n",
              "<p>200000 rows × 1 columns</p>\n",
              "</div>"
            ],
            "text/plain": [
              "        target\n",
              "id            \n",
              "300000     0.5\n",
              "300001     0.5\n",
              "300002     0.5\n",
              "300003     0.5\n",
              "300004     0.5\n",
              "...        ...\n",
              "499995     0.5\n",
              "499996     0.5\n",
              "499997     0.5\n",
              "499998     0.5\n",
              "499999     0.5\n",
              "\n",
              "[200000 rows x 1 columns]"
            ]
          },
          "metadata": {
            "tags": []
          },
          "execution_count": 151
        }
      ]
    },
    {
      "cell_type": "code",
      "metadata": {
        "trusted": true,
        "id": "MQ-oDk6VlzBf",
        "outputId": "aeab469d-3c39-4bd3-b646-a97decf47570",
        "colab": {
          "base_uri": "https://localhost:8080/",
          "height": 422
        }
      },
      "source": [
        "test.info()"
      ],
      "execution_count": 152,
      "outputs": [
        {
          "output_type": "stream",
          "text": [
            "<class 'pandas.core.frame.DataFrame'>\n",
            "RangeIndex: 200000 entries, 0 to 199999\n",
            "Data columns (total 16 columns):\n",
            " #   Column  Non-Null Count   Dtype\n",
            "---  ------  --------------   -----\n",
            " 0   id      200000 non-null  int64\n",
            " 1   bin_0   200000 non-null  int64\n",
            " 2   bin_1   200000 non-null  int64\n",
            " 3   bin_2   200000 non-null  int64\n",
            " 4   bin_3   200000 non-null  int64\n",
            " 5   bin_4   200000 non-null  int64\n",
            " 6   nom_0   200000 non-null  int64\n",
            " 7   nom_1   200000 non-null  int64\n",
            " 8   nom_2   200000 non-null  int64\n",
            " 9   nom_3   200000 non-null  int64\n",
            " 10  nom_4   200000 non-null  int64\n",
            " 11  ord_0   200000 non-null  int64\n",
            " 12  ord_1   200000 non-null  int64\n",
            " 13  ord_2   200000 non-null  int64\n",
            " 14  ord_3   200000 non-null  int64\n",
            " 15  ord_4   200000 non-null  int64\n",
            "dtypes: int64(16)\n",
            "memory usage: 24.4 MB\n"
          ],
          "name": "stdout"
        }
      ]
    },
    {
      "cell_type": "code",
      "metadata": {
        "trusted": true,
        "id": "cB3hjbQXlzBi",
        "outputId": "40f964ba-21e3-4497-a2e1-ce99c256655a",
        "colab": {
          "base_uri": "https://localhost:8080/",
          "height": 422
        }
      },
      "source": [
        "test.info()"
      ],
      "execution_count": 153,
      "outputs": [
        {
          "output_type": "stream",
          "text": [
            "<class 'pandas.core.frame.DataFrame'>\n",
            "RangeIndex: 200000 entries, 0 to 199999\n",
            "Data columns (total 16 columns):\n",
            " #   Column  Non-Null Count   Dtype\n",
            "---  ------  --------------   -----\n",
            " 0   id      200000 non-null  int64\n",
            " 1   bin_0   200000 non-null  int64\n",
            " 2   bin_1   200000 non-null  int64\n",
            " 3   bin_2   200000 non-null  int64\n",
            " 4   bin_3   200000 non-null  int64\n",
            " 5   bin_4   200000 non-null  int64\n",
            " 6   nom_0   200000 non-null  int64\n",
            " 7   nom_1   200000 non-null  int64\n",
            " 8   nom_2   200000 non-null  int64\n",
            " 9   nom_3   200000 non-null  int64\n",
            " 10  nom_4   200000 non-null  int64\n",
            " 11  ord_0   200000 non-null  int64\n",
            " 12  ord_1   200000 non-null  int64\n",
            " 13  ord_2   200000 non-null  int64\n",
            " 14  ord_3   200000 non-null  int64\n",
            " 15  ord_4   200000 non-null  int64\n",
            "dtypes: int64(16)\n",
            "memory usage: 24.4 MB\n"
          ],
          "name": "stdout"
        }
      ]
    },
    {
      "cell_type": "code",
      "metadata": {
        "trusted": true,
        "id": "oaAwUIDLlzBk",
        "outputId": "4431b63e-fdee-4e1d-c66e-7b021a50f9d9",
        "colab": {
          "base_uri": "https://localhost:8080/",
          "height": 439
        }
      },
      "source": [
        "train.info()"
      ],
      "execution_count": 154,
      "outputs": [
        {
          "output_type": "stream",
          "text": [
            "<class 'pandas.core.frame.DataFrame'>\n",
            "RangeIndex: 300000 entries, 0 to 299999\n",
            "Data columns (total 17 columns):\n",
            " #   Column  Non-Null Count   Dtype\n",
            "---  ------  --------------   -----\n",
            " 0   id      300000 non-null  int64\n",
            " 1   bin_0   300000 non-null  int64\n",
            " 2   bin_1   300000 non-null  int64\n",
            " 3   bin_2   300000 non-null  int64\n",
            " 4   bin_3   300000 non-null  int64\n",
            " 5   bin_4   300000 non-null  int64\n",
            " 6   nom_0   300000 non-null  int64\n",
            " 7   nom_1   300000 non-null  int64\n",
            " 8   nom_2   300000 non-null  int64\n",
            " 9   nom_3   300000 non-null  int64\n",
            " 10  nom_4   300000 non-null  int64\n",
            " 11  ord_0   300000 non-null  int64\n",
            " 12  ord_1   300000 non-null  int64\n",
            " 13  ord_2   300000 non-null  int64\n",
            " 14  ord_3   300000 non-null  int64\n",
            " 15  ord_4   300000 non-null  int64\n",
            " 16  target  300000 non-null  int64\n",
            "dtypes: int64(17)\n",
            "memory usage: 38.9 MB\n"
          ],
          "name": "stdout"
        }
      ]
    },
    {
      "cell_type": "code",
      "metadata": {
        "trusted": true,
        "id": "fLutcttxlzBl",
        "outputId": "c3f5438f-a472-4e6f-a624-bdadd7cb981d",
        "colab": {
          "base_uri": "https://localhost:8080/",
          "height": 34
        }
      },
      "source": [
        "lamborghini = LinearRegression()\n",
        "lamborghini.fit(X, y)"
      ],
      "execution_count": 155,
      "outputs": [
        {
          "output_type": "execute_result",
          "data": {
            "text/plain": [
              "LinearRegression(copy_X=True, fit_intercept=True, n_jobs=None, normalize=False)"
            ]
          },
          "metadata": {
            "tags": []
          },
          "execution_count": 155
        }
      ]
    },
    {
      "cell_type": "code",
      "metadata": {
        "trusted": true,
        "id": "BCSToKxtlzBn"
      },
      "source": [
        "test_preds = lamborghini.predict(test)\n",
        "output = pd.DataFrame({'id': test[\"id\"], 'target': test_preds})\n",
        "output.to_csv('lamborghini-dog.csv', index=False)"
      ],
      "execution_count": 156,
      "outputs": []
    }
  ]
}